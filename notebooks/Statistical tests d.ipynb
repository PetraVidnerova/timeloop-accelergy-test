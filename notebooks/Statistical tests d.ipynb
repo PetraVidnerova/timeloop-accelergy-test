{
 "cells": [
  {
   "cell_type": "code",
   "execution_count": 1,
   "id": "72981133",
   "metadata": {},
   "outputs": [],
   "source": [
    "import numpy as np \n",
    "import pandas as pd\n"
   ]
  },
  {
   "cell_type": "code",
   "execution_count": 2,
   "id": "e06b29f3",
   "metadata": {},
   "outputs": [],
   "source": [
    "PREFIX=\"simba_\"\n",
    "#PREFIX=\"eyeriss_\""
   ]
  },
  {
   "cell_type": "code",
   "execution_count": 3,
   "id": "2b19d533",
   "metadata": {},
   "outputs": [
    {
     "data": {
      "text/html": [
       "<div>\n",
       "<style scoped>\n",
       "    .dataframe tbody tr th:only-of-type {\n",
       "        vertical-align: middle;\n",
       "    }\n",
       "\n",
       "    .dataframe tbody tr th {\n",
       "        vertical-align: top;\n",
       "    }\n",
       "\n",
       "    .dataframe thead th {\n",
       "        text-align: right;\n",
       "    }\n",
       "</style>\n",
       "<table border=\"1\" class=\"dataframe\">\n",
       "  <thead>\n",
       "    <tr style=\"text-align: right;\">\n",
       "      <th></th>\n",
       "      <th>d_lambda</th>\n",
       "      <th>timeloop_energy</th>\n",
       "      <th>timeloop_comp</th>\n",
       "      <th>timeloop_data</th>\n",
       "      <th>jirka_comp</th>\n",
       "      <th>jirka_data</th>\n",
       "    </tr>\n",
       "  </thead>\n",
       "  <tbody>\n",
       "    <tr>\n",
       "      <th>0</th>\n",
       "      <td>8</td>\n",
       "      <td>5.614297e+07</td>\n",
       "      <td>4.926404e+06</td>\n",
       "      <td>5.121656e+07</td>\n",
       "      <td>8784600</td>\n",
       "      <td>1263808</td>\n",
       "    </tr>\n",
       "    <tr>\n",
       "      <th>1</th>\n",
       "      <td>16</td>\n",
       "      <td>9.720638e+07</td>\n",
       "      <td>9.852807e+06</td>\n",
       "      <td>8.735357e+07</td>\n",
       "      <td>17569200</td>\n",
       "      <td>2527616</td>\n",
       "    </tr>\n",
       "    <tr>\n",
       "      <th>2</th>\n",
       "      <td>24</td>\n",
       "      <td>1.510118e+08</td>\n",
       "      <td>1.477921e+07</td>\n",
       "      <td>1.362326e+08</td>\n",
       "      <td>26353800</td>\n",
       "      <td>3791424</td>\n",
       "    </tr>\n",
       "    <tr>\n",
       "      <th>3</th>\n",
       "      <td>32</td>\n",
       "      <td>1.966131e+08</td>\n",
       "      <td>1.970561e+07</td>\n",
       "      <td>1.769074e+08</td>\n",
       "      <td>35138400</td>\n",
       "      <td>5055232</td>\n",
       "    </tr>\n",
       "    <tr>\n",
       "      <th>4</th>\n",
       "      <td>40</td>\n",
       "      <td>2.412154e+08</td>\n",
       "      <td>2.463202e+07</td>\n",
       "      <td>2.165834e+08</td>\n",
       "      <td>43923000</td>\n",
       "      <td>6319040</td>\n",
       "    </tr>\n",
       "    <tr>\n",
       "      <th>...</th>\n",
       "      <td>...</td>\n",
       "      <td>...</td>\n",
       "      <td>...</td>\n",
       "      <td>...</td>\n",
       "      <td>...</td>\n",
       "      <td>...</td>\n",
       "    </tr>\n",
       "    <tr>\n",
       "      <th>59</th>\n",
       "      <td>480</td>\n",
       "      <td>2.838595e+09</td>\n",
       "      <td>2.955842e+08</td>\n",
       "      <td>2.543010e+09</td>\n",
       "      <td>527076000</td>\n",
       "      <td>75828480</td>\n",
       "    </tr>\n",
       "    <tr>\n",
       "      <th>60</th>\n",
       "      <td>488</td>\n",
       "      <td>2.975846e+09</td>\n",
       "      <td>3.005106e+08</td>\n",
       "      <td>2.675335e+09</td>\n",
       "      <td>535860600</td>\n",
       "      <td>77092288</td>\n",
       "    </tr>\n",
       "    <tr>\n",
       "      <th>61</th>\n",
       "      <td>496</td>\n",
       "      <td>2.738976e+09</td>\n",
       "      <td>3.054370e+08</td>\n",
       "      <td>2.433539e+09</td>\n",
       "      <td>544645200</td>\n",
       "      <td>78356096</td>\n",
       "    </tr>\n",
       "    <tr>\n",
       "      <th>62</th>\n",
       "      <td>504</td>\n",
       "      <td>3.289278e+09</td>\n",
       "      <td>3.103634e+08</td>\n",
       "      <td>2.978915e+09</td>\n",
       "      <td>553429800</td>\n",
       "      <td>79619904</td>\n",
       "    </tr>\n",
       "    <tr>\n",
       "      <th>63</th>\n",
       "      <td>512</td>\n",
       "      <td>2.778888e+09</td>\n",
       "      <td>3.152898e+08</td>\n",
       "      <td>2.463598e+09</td>\n",
       "      <td>562214400</td>\n",
       "      <td>80883712</td>\n",
       "    </tr>\n",
       "  </tbody>\n",
       "</table>\n",
       "<p>64 rows × 6 columns</p>\n",
       "</div>"
      ],
      "text/plain": [
       "    d_lambda  timeloop_energy  timeloop_comp  timeloop_data  jirka_comp  \\\n",
       "0          8     5.614297e+07   4.926404e+06   5.121656e+07     8784600   \n",
       "1         16     9.720638e+07   9.852807e+06   8.735357e+07    17569200   \n",
       "2         24     1.510118e+08   1.477921e+07   1.362326e+08    26353800   \n",
       "3         32     1.966131e+08   1.970561e+07   1.769074e+08    35138400   \n",
       "4         40     2.412154e+08   2.463202e+07   2.165834e+08    43923000   \n",
       "..       ...              ...            ...            ...         ...   \n",
       "59       480     2.838595e+09   2.955842e+08   2.543010e+09   527076000   \n",
       "60       488     2.975846e+09   3.005106e+08   2.675335e+09   535860600   \n",
       "61       496     2.738976e+09   3.054370e+08   2.433539e+09   544645200   \n",
       "62       504     3.289278e+09   3.103634e+08   2.978915e+09   553429800   \n",
       "63       512     2.778888e+09   3.152898e+08   2.463598e+09   562214400   \n",
       "\n",
       "    jirka_data  \n",
       "0      1263808  \n",
       "1      2527616  \n",
       "2      3791424  \n",
       "3      5055232  \n",
       "4      6319040  \n",
       "..         ...  \n",
       "59    75828480  \n",
       "60    77092288  \n",
       "61    78356096  \n",
       "62    79619904  \n",
       "63    80883712  \n",
       "\n",
       "[64 rows x 6 columns]"
      ]
     },
     "execution_count": 3,
     "metadata": {},
     "output_type": "execute_result"
    }
   ],
   "source": [
    "df = pd.read_csv(f\"data/{PREFIX}energy_d.csv\", sep=\";\", header=None)\n",
    "df.columns = [\"d_lambda\", \"timeloop_energy\", \"timeloop_comp\", \"timeloop_data\", \"jirka_comp\", \"jirka_data\"]\n",
    "df"
   ]
  },
  {
   "cell_type": "code",
   "execution_count": 4,
   "id": "44091bb5",
   "metadata": {},
   "outputs": [
    {
     "name": "stderr",
     "output_type": "stream",
     "text": [
      "/home/petra/miniconda3/envs/accelergy/lib/python3.7/site-packages/ipykernel_launcher.py:2: SettingWithCopyWarning: \n",
      "A value is trying to be set on a copy of a slice from a DataFrame.\n",
      "Try using .loc[row_indexer,col_indexer] = value instead\n",
      "\n",
      "See the caveats in the documentation: https://pandas.pydata.org/pandas-docs/stable/user_guide/indexing.html#returning-a-view-versus-a-copy\n",
      "  \n"
     ]
    }
   ],
   "source": [
    "df = df[[\"d_lambda\", \"timeloop_data\"]]\n",
    "df[\"d_lambda_sq\"] = df[\"d_lambda\"]*df[\"d_lambda\"]"
   ]
  },
  {
   "cell_type": "code",
   "execution_count": 5,
   "id": "a1d8fd8b",
   "metadata": {},
   "outputs": [
    {
     "data": {
      "text/html": [
       "<div>\n",
       "<style scoped>\n",
       "    .dataframe tbody tr th:only-of-type {\n",
       "        vertical-align: middle;\n",
       "    }\n",
       "\n",
       "    .dataframe tbody tr th {\n",
       "        vertical-align: top;\n",
       "    }\n",
       "\n",
       "    .dataframe thead th {\n",
       "        text-align: right;\n",
       "    }\n",
       "</style>\n",
       "<table border=\"1\" class=\"dataframe\">\n",
       "  <thead>\n",
       "    <tr style=\"text-align: right;\">\n",
       "      <th></th>\n",
       "      <th>d_lambda</th>\n",
       "      <th>timeloop_data</th>\n",
       "      <th>d_lambda_sq</th>\n",
       "    </tr>\n",
       "  </thead>\n",
       "  <tbody>\n",
       "    <tr>\n",
       "      <th>0</th>\n",
       "      <td>8</td>\n",
       "      <td>5.121656e+07</td>\n",
       "      <td>64</td>\n",
       "    </tr>\n",
       "    <tr>\n",
       "      <th>1</th>\n",
       "      <td>16</td>\n",
       "      <td>8.735357e+07</td>\n",
       "      <td>256</td>\n",
       "    </tr>\n",
       "    <tr>\n",
       "      <th>2</th>\n",
       "      <td>24</td>\n",
       "      <td>1.362326e+08</td>\n",
       "      <td>576</td>\n",
       "    </tr>\n",
       "    <tr>\n",
       "      <th>3</th>\n",
       "      <td>32</td>\n",
       "      <td>1.769074e+08</td>\n",
       "      <td>1024</td>\n",
       "    </tr>\n",
       "    <tr>\n",
       "      <th>4</th>\n",
       "      <td>40</td>\n",
       "      <td>2.165834e+08</td>\n",
       "      <td>1600</td>\n",
       "    </tr>\n",
       "    <tr>\n",
       "      <th>...</th>\n",
       "      <td>...</td>\n",
       "      <td>...</td>\n",
       "      <td>...</td>\n",
       "    </tr>\n",
       "    <tr>\n",
       "      <th>59</th>\n",
       "      <td>480</td>\n",
       "      <td>2.543010e+09</td>\n",
       "      <td>230400</td>\n",
       "    </tr>\n",
       "    <tr>\n",
       "      <th>60</th>\n",
       "      <td>488</td>\n",
       "      <td>2.675335e+09</td>\n",
       "      <td>238144</td>\n",
       "    </tr>\n",
       "    <tr>\n",
       "      <th>61</th>\n",
       "      <td>496</td>\n",
       "      <td>2.433539e+09</td>\n",
       "      <td>246016</td>\n",
       "    </tr>\n",
       "    <tr>\n",
       "      <th>62</th>\n",
       "      <td>504</td>\n",
       "      <td>2.978915e+09</td>\n",
       "      <td>254016</td>\n",
       "    </tr>\n",
       "    <tr>\n",
       "      <th>63</th>\n",
       "      <td>512</td>\n",
       "      <td>2.463598e+09</td>\n",
       "      <td>262144</td>\n",
       "    </tr>\n",
       "  </tbody>\n",
       "</table>\n",
       "<p>64 rows × 3 columns</p>\n",
       "</div>"
      ],
      "text/plain": [
       "    d_lambda  timeloop_data  d_lambda_sq\n",
       "0          8   5.121656e+07           64\n",
       "1         16   8.735357e+07          256\n",
       "2         24   1.362326e+08          576\n",
       "3         32   1.769074e+08         1024\n",
       "4         40   2.165834e+08         1600\n",
       "..       ...            ...          ...\n",
       "59       480   2.543010e+09       230400\n",
       "60       488   2.675335e+09       238144\n",
       "61       496   2.433539e+09       246016\n",
       "62       504   2.978915e+09       254016\n",
       "63       512   2.463598e+09       262144\n",
       "\n",
       "[64 rows x 3 columns]"
      ]
     },
     "execution_count": 5,
     "metadata": {},
     "output_type": "execute_result"
    }
   ],
   "source": [
    "df"
   ]
  },
  {
   "cell_type": "markdown",
   "id": "3e529457",
   "metadata": {},
   "source": [
    "# Statistical test using smf.osl"
   ]
  },
  {
   "cell_type": "code",
   "execution_count": 6,
   "id": "00c6f057",
   "metadata": {},
   "outputs": [],
   "source": [
    "import statsmodels.formula.api as smf\n"
   ]
  },
  {
   "cell_type": "code",
   "execution_count": 7,
   "id": "c0dc6864",
   "metadata": {},
   "outputs": [],
   "source": [
    "model = smf.ols(formula='timeloop_data ~ d_lambda + d_lambda_sq', data=df)\n",
    "results = model.fit()"
   ]
  },
  {
   "cell_type": "code",
   "execution_count": 8,
   "id": "d97c4925",
   "metadata": {},
   "outputs": [
    {
     "data": {
      "text/plain": [
       "<statsmodels.regression.linear_model.RegressionResultsWrapper at 0x7ffb23f27e10>"
      ]
     },
     "execution_count": 8,
     "metadata": {},
     "output_type": "execute_result"
    }
   ],
   "source": [
    "results"
   ]
  },
  {
   "cell_type": "code",
   "execution_count": 9,
   "id": "edeca04a",
   "metadata": {},
   "outputs": [
    {
     "data": {
      "text/html": [
       "<table class=\"simpletable\">\n",
       "<caption>OLS Regression Results</caption>\n",
       "<tr>\n",
       "  <th>Dep. Variable:</th>      <td>timeloop_data</td>  <th>  R-squared:         </th> <td>   0.965</td>\n",
       "</tr>\n",
       "<tr>\n",
       "  <th>Model:</th>                   <td>OLS</td>       <th>  Adj. R-squared:    </th> <td>   0.964</td>\n",
       "</tr>\n",
       "<tr>\n",
       "  <th>Method:</th>             <td>Least Squares</td>  <th>  F-statistic:       </th> <td>   839.5</td>\n",
       "</tr>\n",
       "<tr>\n",
       "  <th>Date:</th>             <td>Tue, 04 Apr 2023</td> <th>  Prob (F-statistic):</th> <td>4.12e-45</td>\n",
       "</tr>\n",
       "<tr>\n",
       "  <th>Time:</th>                 <td>12:35:12</td>     <th>  Log-Likelihood:    </th> <td> -1297.1</td>\n",
       "</tr>\n",
       "<tr>\n",
       "  <th>No. Observations:</th>      <td>    64</td>      <th>  AIC:               </th> <td>   2600.</td>\n",
       "</tr>\n",
       "<tr>\n",
       "  <th>Df Residuals:</th>          <td>    61</td>      <th>  BIC:               </th> <td>   2607.</td>\n",
       "</tr>\n",
       "<tr>\n",
       "  <th>Df Model:</th>              <td>     2</td>      <th>                     </th>     <td> </td>   \n",
       "</tr>\n",
       "<tr>\n",
       "  <th>Covariance Type:</th>      <td>nonrobust</td>    <th>                     </th>     <td> </td>   \n",
       "</tr>\n",
       "</table>\n",
       "<table class=\"simpletable\">\n",
       "<tr>\n",
       "       <td></td>          <th>coef</th>     <th>std err</th>      <th>t</th>      <th>P>|t|</th>  <th>[0.025</th>    <th>0.975]</th>  \n",
       "</tr>\n",
       "<tr>\n",
       "  <th>Intercept</th>   <td> 3.158e+06</td> <td> 6.08e+07</td> <td>    0.052</td> <td> 0.959</td> <td>-1.18e+08</td> <td> 1.25e+08</td>\n",
       "</tr>\n",
       "<tr>\n",
       "  <th>d_lambda</th>    <td> 5.133e+06</td> <td> 5.39e+05</td> <td>    9.517</td> <td> 0.000</td> <td> 4.05e+06</td> <td> 6.21e+06</td>\n",
       "</tr>\n",
       "<tr>\n",
       "  <th>d_lambda_sq</th> <td>  595.0835</td> <td> 1005.230</td> <td>    0.592</td> <td> 0.556</td> <td>-1414.997</td> <td> 2605.165</td>\n",
       "</tr>\n",
       "</table>\n",
       "<table class=\"simpletable\">\n",
       "<tr>\n",
       "  <th>Omnibus:</th>       <td>54.084</td> <th>  Durbin-Watson:     </th> <td>   2.509</td>\n",
       "</tr>\n",
       "<tr>\n",
       "  <th>Prob(Omnibus):</th> <td> 0.000</td> <th>  Jarque-Bera (JB):  </th> <td> 293.612</td>\n",
       "</tr>\n",
       "<tr>\n",
       "  <th>Skew:</th>          <td> 2.358</td> <th>  Prob(JB):          </th> <td>1.75e-64</td>\n",
       "</tr>\n",
       "<tr>\n",
       "  <th>Kurtosis:</th>      <td>12.374</td> <th>  Cond. No.          </th> <td>3.70e+05</td>\n",
       "</tr>\n",
       "</table><br/><br/>Notes:<br/>[1] Standard Errors assume that the covariance matrix of the errors is correctly specified.<br/>[2] The condition number is large, 3.7e+05. This might indicate that there are<br/>strong multicollinearity or other numerical problems."
      ],
      "text/plain": [
       "<class 'statsmodels.iolib.summary.Summary'>\n",
       "\"\"\"\n",
       "                            OLS Regression Results                            \n",
       "==============================================================================\n",
       "Dep. Variable:          timeloop_data   R-squared:                       0.965\n",
       "Model:                            OLS   Adj. R-squared:                  0.964\n",
       "Method:                 Least Squares   F-statistic:                     839.5\n",
       "Date:                Tue, 04 Apr 2023   Prob (F-statistic):           4.12e-45\n",
       "Time:                        12:35:12   Log-Likelihood:                -1297.1\n",
       "No. Observations:                  64   AIC:                             2600.\n",
       "Df Residuals:                      61   BIC:                             2607.\n",
       "Df Model:                           2                                         \n",
       "Covariance Type:            nonrobust                                         \n",
       "===============================================================================\n",
       "                  coef    std err          t      P>|t|      [0.025      0.975]\n",
       "-------------------------------------------------------------------------------\n",
       "Intercept    3.158e+06   6.08e+07      0.052      0.959   -1.18e+08    1.25e+08\n",
       "d_lambda     5.133e+06   5.39e+05      9.517      0.000    4.05e+06    6.21e+06\n",
       "d_lambda_sq   595.0835   1005.230      0.592      0.556   -1414.997    2605.165\n",
       "==============================================================================\n",
       "Omnibus:                       54.084   Durbin-Watson:                   2.509\n",
       "Prob(Omnibus):                  0.000   Jarque-Bera (JB):              293.612\n",
       "Skew:                           2.358   Prob(JB):                     1.75e-64\n",
       "Kurtosis:                      12.374   Cond. No.                     3.70e+05\n",
       "==============================================================================\n",
       "\n",
       "Notes:\n",
       "[1] Standard Errors assume that the covariance matrix of the errors is correctly specified.\n",
       "[2] The condition number is large, 3.7e+05. This might indicate that there are\n",
       "strong multicollinearity or other numerical problems.\n",
       "\"\"\""
      ]
     },
     "execution_count": 9,
     "metadata": {},
     "output_type": "execute_result"
    }
   ],
   "source": [
    "results.summary()"
   ]
  },
  {
   "cell_type": "code",
   "execution_count": 10,
   "id": "d22c7f6a",
   "metadata": {},
   "outputs": [
    {
     "name": "stdout",
     "output_type": "stream",
     "text": [
      "Intercept      9.587348e-01\n",
      "d_lambda       1.144896e-13\n",
      "d_lambda_sq    5.560467e-01\n",
      "dtype: float64\n"
     ]
    }
   ],
   "source": [
    "print(results.pvalues)"
   ]
  },
  {
   "cell_type": "code",
   "execution_count": 11,
   "id": "007ae166",
   "metadata": {},
   "outputs": [
    {
     "data": {
      "text/plain": [
       "0.5560467483864759"
      ]
     },
     "execution_count": 11,
     "metadata": {},
     "output_type": "execute_result"
    }
   ],
   "source": [
    "results.pvalues[\"d_lambda_sq\"]"
   ]
  },
  {
   "cell_type": "code",
   "execution_count": 12,
   "id": "378ba9b6",
   "metadata": {},
   "outputs": [
    {
     "data": {
      "text/plain": [
       "Intercept      0.958735\n",
       "d_lambda_sq    0.556047\n",
       "dtype: float64"
      ]
     },
     "execution_count": 12,
     "metadata": {},
     "output_type": "execute_result"
    }
   ],
   "source": [
    "results.pvalues[results.pvalues > .05]"
   ]
  },
  {
   "cell_type": "markdown",
   "id": "19621a70",
   "metadata": {},
   "source": [
    "# Statistical test using OSL"
   ]
  },
  {
   "cell_type": "code",
   "execution_count": 13,
   "id": "94290f69",
   "metadata": {},
   "outputs": [],
   "source": [
    "import statsmodels.api as sm"
   ]
  },
  {
   "cell_type": "code",
   "execution_count": 14,
   "id": "a15891ac",
   "metadata": {},
   "outputs": [
    {
     "data": {
      "text/plain": [
       "const          3.157640e+06\n",
       "d_lambda       5.132678e+06\n",
       "d_lambda_sq    5.950835e+02\n",
       "dtype: float64"
      ]
     },
     "execution_count": 14,
     "metadata": {},
     "output_type": "execute_result"
    }
   ],
   "source": [
    "Y=df[\"timeloop_data\"]\n",
    "X=df[[\"d_lambda\", \"d_lambda_sq\"]]\n",
    "X = sm.add_constant(X)\n",
    "model = sm.OLS(Y,X)\n",
    "results = model.fit()\n",
    "results.params"
   ]
  },
  {
   "cell_type": "markdown",
   "id": "bc99badd",
   "metadata": {},
   "source": [
    "# Figure"
   ]
  },
  {
   "cell_type": "code",
   "execution_count": 15,
   "id": "fa4c4b2f",
   "metadata": {},
   "outputs": [
    {
     "name": "stdout",
     "output_type": "stream",
     "text": [
      "5442121.661790551 -24073382.9738245\n"
     ]
    },
    {
     "name": "stderr",
     "output_type": "stream",
     "text": [
      "/home/petra/miniconda3/envs/accelergy/lib/python3.7/site-packages/ipykernel_launcher.py:6: SettingWithCopyWarning: \n",
      "A value is trying to be set on a copy of a slice from a DataFrame.\n",
      "Try using .loc[row_indexer,col_indexer] = value instead\n",
      "\n",
      "See the caveats in the documentation: https://pandas.pydata.org/pandas-docs/stable/user_guide/indexing.html#returning-a-view-versus-a-copy\n",
      "  \n"
     ]
    },
    {
     "data": {
      "text/html": [
       "<div>\n",
       "<style scoped>\n",
       "    .dataframe tbody tr th:only-of-type {\n",
       "        vertical-align: middle;\n",
       "    }\n",
       "\n",
       "    .dataframe tbody tr th {\n",
       "        vertical-align: top;\n",
       "    }\n",
       "\n",
       "    .dataframe thead th {\n",
       "        text-align: right;\n",
       "    }\n",
       "</style>\n",
       "<table border=\"1\" class=\"dataframe\">\n",
       "  <thead>\n",
       "    <tr style=\"text-align: right;\">\n",
       "      <th></th>\n",
       "      <th>d_lambda</th>\n",
       "      <th>timeloop_data</th>\n",
       "      <th>d_lambda_sq</th>\n",
       "      <th>linear</th>\n",
       "    </tr>\n",
       "  </thead>\n",
       "  <tbody>\n",
       "    <tr>\n",
       "      <th>0</th>\n",
       "      <td>8</td>\n",
       "      <td>5.121656e+07</td>\n",
       "      <td>64</td>\n",
       "      <td>1.946359e+07</td>\n",
       "    </tr>\n",
       "    <tr>\n",
       "      <th>1</th>\n",
       "      <td>16</td>\n",
       "      <td>8.735357e+07</td>\n",
       "      <td>256</td>\n",
       "      <td>6.300056e+07</td>\n",
       "    </tr>\n",
       "    <tr>\n",
       "      <th>2</th>\n",
       "      <td>24</td>\n",
       "      <td>1.362326e+08</td>\n",
       "      <td>576</td>\n",
       "      <td>1.065375e+08</td>\n",
       "    </tr>\n",
       "    <tr>\n",
       "      <th>3</th>\n",
       "      <td>32</td>\n",
       "      <td>1.769074e+08</td>\n",
       "      <td>1024</td>\n",
       "      <td>1.500745e+08</td>\n",
       "    </tr>\n",
       "    <tr>\n",
       "      <th>4</th>\n",
       "      <td>40</td>\n",
       "      <td>2.165834e+08</td>\n",
       "      <td>1600</td>\n",
       "      <td>1.936115e+08</td>\n",
       "    </tr>\n",
       "    <tr>\n",
       "      <th>...</th>\n",
       "      <td>...</td>\n",
       "      <td>...</td>\n",
       "      <td>...</td>\n",
       "      <td>...</td>\n",
       "    </tr>\n",
       "    <tr>\n",
       "      <th>59</th>\n",
       "      <td>480</td>\n",
       "      <td>2.543010e+09</td>\n",
       "      <td>230400</td>\n",
       "      <td>2.588145e+09</td>\n",
       "    </tr>\n",
       "    <tr>\n",
       "      <th>60</th>\n",
       "      <td>488</td>\n",
       "      <td>2.675335e+09</td>\n",
       "      <td>238144</td>\n",
       "      <td>2.631682e+09</td>\n",
       "    </tr>\n",
       "    <tr>\n",
       "      <th>61</th>\n",
       "      <td>496</td>\n",
       "      <td>2.433539e+09</td>\n",
       "      <td>246016</td>\n",
       "      <td>2.675219e+09</td>\n",
       "    </tr>\n",
       "    <tr>\n",
       "      <th>62</th>\n",
       "      <td>504</td>\n",
       "      <td>2.978915e+09</td>\n",
       "      <td>254016</td>\n",
       "      <td>2.718756e+09</td>\n",
       "    </tr>\n",
       "    <tr>\n",
       "      <th>63</th>\n",
       "      <td>512</td>\n",
       "      <td>2.463598e+09</td>\n",
       "      <td>262144</td>\n",
       "      <td>2.762293e+09</td>\n",
       "    </tr>\n",
       "  </tbody>\n",
       "</table>\n",
       "<p>64 rows × 4 columns</p>\n",
       "</div>"
      ],
      "text/plain": [
       "    d_lambda  timeloop_data  d_lambda_sq        linear\n",
       "0          8   5.121656e+07           64  1.946359e+07\n",
       "1         16   8.735357e+07          256  6.300056e+07\n",
       "2         24   1.362326e+08          576  1.065375e+08\n",
       "3         32   1.769074e+08         1024  1.500745e+08\n",
       "4         40   2.165834e+08         1600  1.936115e+08\n",
       "..       ...            ...          ...           ...\n",
       "59       480   2.543010e+09       230400  2.588145e+09\n",
       "60       488   2.675335e+09       238144  2.631682e+09\n",
       "61       496   2.433539e+09       246016  2.675219e+09\n",
       "62       504   2.978915e+09       254016  2.718756e+09\n",
       "63       512   2.463598e+09       262144  2.762293e+09\n",
       "\n",
       "[64 rows x 4 columns]"
      ]
     },
     "execution_count": 15,
     "metadata": {},
     "output_type": "execute_result"
    }
   ],
   "source": [
    "from scipy import stats\n",
    "m, c, r, p, se = stats.linregress(df[\"d_lambda\"], df[\"timeloop_data\"])\n",
    "\n",
    "print(m, c)\n",
    "\n",
    "df[\"linear\"] = m*df[\"d_lambda\"]+c\n",
    "df"
   ]
  },
  {
   "cell_type": "code",
   "execution_count": 16,
   "id": "a1dfecca",
   "metadata": {},
   "outputs": [],
   "source": [
    "import matplotlib.pyplot as plt\n",
    "import seaborn as sns"
   ]
  },
  {
   "cell_type": "code",
   "execution_count": 17,
   "id": "967ff897",
   "metadata": {},
   "outputs": [
    {
     "data": {
      "image/png": "[encoded data removed]",
      "text/plain": [
       "<Figure size 600x400 with 1 Axes>"
      ]
     },
     "metadata": {},
     "output_type": "display_data"
    }
   ],
   "source": [
    "fig, ax = plt.subplots(nrows=1, ncols=1, figsize=(6,4))\n",
    "\n",
    "dfx = df[[\"d_lambda\", \"timeloop_data\", \"linear\"]]\n",
    "\n",
    "sns.barplot(data=dfx, x=\"d_lambda\", y=\"timeloop_data\", color=\"gray\")\n",
    "sns.lineplot(data=dfx, x=dfx.index, y=\"linear\", ls=\"--\", color=\"black\")\n",
    "\n",
    "ax.set(xlabel=\"$d_{\\lambda}$\")\n",
    "ax.set(ylabel=\"estimated $E_{data}$\")\n",
    "ax.set(ylim=(0,3.2e09))\n",
    "ax.set(xlim=(0,63))\n",
    "ax.set_xticks(list(range(8,64,16)));\n",
    "\n",
    "fig.tight_layout()\n",
    "fig.savefig(f\"{PREFIX}linear_trend_d.png\", bbox_inches=\"tight\")\n"
   ]
  },
  {
   "cell_type": "code",
   "execution_count": 18,
   "id": "31bcfe84",
   "metadata": {},
   "outputs": [
    {
     "data": {
      "text/html": [
       "<div>\n",
       "<style scoped>\n",
       "    .dataframe tbody tr th:only-of-type {\n",
       "        vertical-align: middle;\n",
       "    }\n",
       "\n",
       "    .dataframe tbody tr th {\n",
       "        vertical-align: top;\n",
       "    }\n",
       "\n",
       "    .dataframe thead th {\n",
       "        text-align: right;\n",
       "    }\n",
       "</style>\n",
       "<table border=\"1\" class=\"dataframe\">\n",
       "  <thead>\n",
       "    <tr style=\"text-align: right;\">\n",
       "      <th></th>\n",
       "      <th>d_lambda</th>\n",
       "      <th>timeloop_data</th>\n",
       "      <th>linear</th>\n",
       "    </tr>\n",
       "  </thead>\n",
       "  <tbody>\n",
       "    <tr>\n",
       "      <th>0</th>\n",
       "      <td>8</td>\n",
       "      <td>5.121656e+07</td>\n",
       "      <td>1.946359e+07</td>\n",
       "    </tr>\n",
       "    <tr>\n",
       "      <th>1</th>\n",
       "      <td>16</td>\n",
       "      <td>8.735357e+07</td>\n",
       "      <td>6.300056e+07</td>\n",
       "    </tr>\n",
       "    <tr>\n",
       "      <th>2</th>\n",
       "      <td>24</td>\n",
       "      <td>1.362326e+08</td>\n",
       "      <td>1.065375e+08</td>\n",
       "    </tr>\n",
       "    <tr>\n",
       "      <th>3</th>\n",
       "      <td>32</td>\n",
       "      <td>1.769074e+08</td>\n",
       "      <td>1.500745e+08</td>\n",
       "    </tr>\n",
       "    <tr>\n",
       "      <th>4</th>\n",
       "      <td>40</td>\n",
       "      <td>2.165834e+08</td>\n",
       "      <td>1.936115e+08</td>\n",
       "    </tr>\n",
       "    <tr>\n",
       "      <th>...</th>\n",
       "      <td>...</td>\n",
       "      <td>...</td>\n",
       "      <td>...</td>\n",
       "    </tr>\n",
       "    <tr>\n",
       "      <th>59</th>\n",
       "      <td>480</td>\n",
       "      <td>2.543010e+09</td>\n",
       "      <td>2.588145e+09</td>\n",
       "    </tr>\n",
       "    <tr>\n",
       "      <th>60</th>\n",
       "      <td>488</td>\n",
       "      <td>2.675335e+09</td>\n",
       "      <td>2.631682e+09</td>\n",
       "    </tr>\n",
       "    <tr>\n",
       "      <th>61</th>\n",
       "      <td>496</td>\n",
       "      <td>2.433539e+09</td>\n",
       "      <td>2.675219e+09</td>\n",
       "    </tr>\n",
       "    <tr>\n",
       "      <th>62</th>\n",
       "      <td>504</td>\n",
       "      <td>2.978915e+09</td>\n",
       "      <td>2.718756e+09</td>\n",
       "    </tr>\n",
       "    <tr>\n",
       "      <th>63</th>\n",
       "      <td>512</td>\n",
       "      <td>2.463598e+09</td>\n",
       "      <td>2.762293e+09</td>\n",
       "    </tr>\n",
       "  </tbody>\n",
       "</table>\n",
       "<p>64 rows × 3 columns</p>\n",
       "</div>"
      ],
      "text/plain": [
       "    d_lambda  timeloop_data        linear\n",
       "0          8   5.121656e+07  1.946359e+07\n",
       "1         16   8.735357e+07  6.300056e+07\n",
       "2         24   1.362326e+08  1.065375e+08\n",
       "3         32   1.769074e+08  1.500745e+08\n",
       "4         40   2.165834e+08  1.936115e+08\n",
       "..       ...            ...           ...\n",
       "59       480   2.543010e+09  2.588145e+09\n",
       "60       488   2.675335e+09  2.631682e+09\n",
       "61       496   2.433539e+09  2.675219e+09\n",
       "62       504   2.978915e+09  2.718756e+09\n",
       "63       512   2.463598e+09  2.762293e+09\n",
       "\n",
       "[64 rows x 3 columns]"
      ]
     },
     "execution_count": 18,
     "metadata": {},
     "output_type": "execute_result"
    }
   ],
   "source": [
    "dfx"
   ]
  },
  {
   "cell_type": "code",
   "execution_count": null,
   "id": "3030a75f",
   "metadata": {},
   "outputs": [],
   "source": []
  },
  {
   "cell_type": "code",
   "execution_count": null,
   "id": "35f99d27",
   "metadata": {},
   "outputs": [],
   "source": []
  }
 ],
 "metadata": {
  "kernelspec": {
   "display_name": "Python 3 (ipykernel)",
   "language": "python",
   "name": "python3"
  },
  "language_info": {
   "codemirror_mode": {
    "name": "ipython",
    "version": 3
   },
   "file_extension": ".py",
   "mimetype": "text/x-python",
   "name": "python",
   "nbconvert_exporter": "python",
   "pygments_lexer": "ipython3",
   "version": "3.7.13"
  }
 },
 "nbformat": 4,
 "nbformat_minor": 5
}
