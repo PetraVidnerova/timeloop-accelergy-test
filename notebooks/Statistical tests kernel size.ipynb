{
 "cells": [
  {
   "cell_type": "code",
   "execution_count": 1,
   "id": "6029be46",
   "metadata": {},
   "outputs": [],
   "source": [
    "import numpy as np \n",
    "import pandas as pd\n"
   ]
  },
  {
   "cell_type": "code",
   "execution_count": 2,
   "id": "9020904a",
   "metadata": {},
   "outputs": [],
   "source": [
    "PREFIX=\"simba_\"\n",
    "#PREFIX=\"eyeriss_\""
   ]
  },
  {
   "cell_type": "code",
   "execution_count": 3,
   "id": "857a890c",
   "metadata": {},
   "outputs": [
    {
     "data": {
      "text/html": [
       "<div>\n",
       "<style scoped>\n",
       "    .dataframe tbody tr th:only-of-type {\n",
       "        vertical-align: middle;\n",
       "    }\n",
       "\n",
       "    .dataframe tbody tr th {\n",
       "        vertical-align: top;\n",
       "    }\n",
       "\n",
       "    .dataframe thead th {\n",
       "        text-align: right;\n",
       "    }\n",
       "</style>\n",
       "<table border=\"1\" class=\"dataframe\">\n",
       "  <thead>\n",
       "    <tr style=\"text-align: right;\">\n",
       "      <th></th>\n",
       "      <th>r</th>\n",
       "      <th>timeloop_energy</th>\n",
       "      <th>timeloop_comp</th>\n",
       "      <th>timeloop_data</th>\n",
       "      <th>jirka_comp</th>\n",
       "      <th>jirka_data</th>\n",
       "    </tr>\n",
       "  </thead>\n",
       "  <tbody>\n",
       "    <tr>\n",
       "      <th>0</th>\n",
       "      <td>3</td>\n",
       "      <td>5.342644e+07</td>\n",
       "      <td>3148483.74</td>\n",
       "      <td>5.027796e+07</td>\n",
       "      <td>5614272</td>\n",
       "      <td>9843520</td>\n",
       "    </tr>\n",
       "    <tr>\n",
       "      <th>1</th>\n",
       "      <td>5</td>\n",
       "      <td>1.171365e+08</td>\n",
       "      <td>8441610.24</td>\n",
       "      <td>1.086949e+08</td>\n",
       "      <td>15052800</td>\n",
       "      <td>9839360</td>\n",
       "    </tr>\n",
       "    <tr>\n",
       "      <th>2</th>\n",
       "      <td>7</td>\n",
       "      <td>1.998782e+08</td>\n",
       "      <td>16545556.07</td>\n",
       "      <td>1.833327e+08</td>\n",
       "      <td>29503488</td>\n",
       "      <td>9843968</td>\n",
       "    </tr>\n",
       "    <tr>\n",
       "      <th>3</th>\n",
       "      <td>9</td>\n",
       "      <td>2.757559e+08</td>\n",
       "      <td>26382723.84</td>\n",
       "      <td>2.493732e+08</td>\n",
       "      <td>47044800</td>\n",
       "      <td>9843008</td>\n",
       "    </tr>\n",
       "    <tr>\n",
       "      <th>4</th>\n",
       "      <td>11</td>\n",
       "      <td>3.810949e+08</td>\n",
       "      <td>39411229.44</td>\n",
       "      <td>3.416837e+08</td>\n",
       "      <td>70276800</td>\n",
       "      <td>9850688</td>\n",
       "    </tr>\n",
       "  </tbody>\n",
       "</table>\n",
       "</div>"
      ],
      "text/plain": [
       "    r  timeloop_energy  timeloop_comp  timeloop_data  jirka_comp  jirka_data\n",
       "0   3     5.342644e+07     3148483.74   5.027796e+07     5614272     9843520\n",
       "1   5     1.171365e+08     8441610.24   1.086949e+08    15052800     9839360\n",
       "2   7     1.998782e+08    16545556.07   1.833327e+08    29503488     9843968\n",
       "3   9     2.757559e+08    26382723.84   2.493732e+08    47044800     9843008\n",
       "4  11     3.810949e+08    39411229.44   3.416837e+08    70276800     9850688"
      ]
     },
     "execution_count": 3,
     "metadata": {},
     "output_type": "execute_result"
    }
   ],
   "source": [
    "df = pd.read_csv(f\"data/{PREFIX}energy_kernels.csv\", sep=\";\", header=None)\n",
    "df = df.reset_index(drop=True)\n",
    "df.columns = [\"r\", \"timeloop_energy\", \"timeloop_comp\", \"timeloop_data\", \"jirka_comp\", \"jirka_data\"]\n",
    "df"
   ]
  },
  {
   "cell_type": "code",
   "execution_count": 4,
   "id": "a72a4180",
   "metadata": {},
   "outputs": [
    {
     "name": "stderr",
     "output_type": "stream",
     "text": [
      "/home/petra/miniconda3/envs/accelergy/lib/python3.7/site-packages/ipykernel_launcher.py:2: SettingWithCopyWarning: \n",
      "A value is trying to be set on a copy of a slice from a DataFrame.\n",
      "Try using .loc[row_indexer,col_indexer] = value instead\n",
      "\n",
      "See the caveats in the documentation: https://pandas.pydata.org/pandas-docs/stable/user_guide/indexing.html#returning-a-view-versus-a-copy\n",
      "  \n"
     ]
    }
   ],
   "source": [
    "df = df[[\"r\", \"timeloop_data\"]]\n",
    "df[\"r_sq\"] = df[\"r\"]*df[\"r\"]"
   ]
  },
  {
   "cell_type": "code",
   "execution_count": 5,
   "id": "0815a5b8",
   "metadata": {},
   "outputs": [
    {
     "data": {
      "text/html": [
       "<div>\n",
       "<style scoped>\n",
       "    .dataframe tbody tr th:only-of-type {\n",
       "        vertical-align: middle;\n",
       "    }\n",
       "\n",
       "    .dataframe tbody tr th {\n",
       "        vertical-align: top;\n",
       "    }\n",
       "\n",
       "    .dataframe thead th {\n",
       "        text-align: right;\n",
       "    }\n",
       "</style>\n",
       "<table border=\"1\" class=\"dataframe\">\n",
       "  <thead>\n",
       "    <tr style=\"text-align: right;\">\n",
       "      <th></th>\n",
       "      <th>r</th>\n",
       "      <th>timeloop_data</th>\n",
       "      <th>r_sq</th>\n",
       "    </tr>\n",
       "  </thead>\n",
       "  <tbody>\n",
       "    <tr>\n",
       "      <th>0</th>\n",
       "      <td>3</td>\n",
       "      <td>5.027796e+07</td>\n",
       "      <td>9</td>\n",
       "    </tr>\n",
       "    <tr>\n",
       "      <th>1</th>\n",
       "      <td>5</td>\n",
       "      <td>1.086949e+08</td>\n",
       "      <td>25</td>\n",
       "    </tr>\n",
       "    <tr>\n",
       "      <th>2</th>\n",
       "      <td>7</td>\n",
       "      <td>1.833327e+08</td>\n",
       "      <td>49</td>\n",
       "    </tr>\n",
       "    <tr>\n",
       "      <th>3</th>\n",
       "      <td>9</td>\n",
       "      <td>2.493732e+08</td>\n",
       "      <td>81</td>\n",
       "    </tr>\n",
       "    <tr>\n",
       "      <th>4</th>\n",
       "      <td>11</td>\n",
       "      <td>3.416837e+08</td>\n",
       "      <td>121</td>\n",
       "    </tr>\n",
       "  </tbody>\n",
       "</table>\n",
       "</div>"
      ],
      "text/plain": [
       "    r  timeloop_data  r_sq\n",
       "0   3   5.027796e+07     9\n",
       "1   5   1.086949e+08    25\n",
       "2   7   1.833327e+08    49\n",
       "3   9   2.493732e+08    81\n",
       "4  11   3.416837e+08   121"
      ]
     },
     "execution_count": 5,
     "metadata": {},
     "output_type": "execute_result"
    }
   ],
   "source": [
    "df"
   ]
  },
  {
   "cell_type": "markdown",
   "id": "9c5f7d99",
   "metadata": {},
   "source": [
    "# Statistical test using smf.osl"
   ]
  },
  {
   "cell_type": "code",
   "execution_count": 6,
   "id": "0448826d",
   "metadata": {},
   "outputs": [],
   "source": [
    "import statsmodels.formula.api as smf\n"
   ]
  },
  {
   "cell_type": "code",
   "execution_count": 7,
   "id": "b6ce8a7a",
   "metadata": {},
   "outputs": [],
   "source": [
    "model = smf.ols(formula='timeloop_data ~ r + r_sq', data=df)\n",
    "results = model.fit()"
   ]
  },
  {
   "cell_type": "code",
   "execution_count": 8,
   "id": "58b77be0",
   "metadata": {},
   "outputs": [
    {
     "data": {
      "text/plain": [
       "<statsmodels.regression.linear_model.RegressionResultsWrapper at 0x7fb8eb141250>"
      ]
     },
     "execution_count": 8,
     "metadata": {},
     "output_type": "execute_result"
    }
   ],
   "source": [
    "results"
   ]
  },
  {
   "cell_type": "code",
   "execution_count": 9,
   "id": "9a6f42ba",
   "metadata": {},
   "outputs": [
    {
     "name": "stderr",
     "output_type": "stream",
     "text": [
      "/home/petra/miniconda3/envs/accelergy/lib/python3.7/site-packages/statsmodels/stats/stattools.py:75: ValueWarning: omni_normtest is not valid with less than 8 observations; 5 samples were given.\n",
      "  \"samples were given.\" % int(n), ValueWarning)\n"
     ]
    },
    {
     "data": {
      "text/html": [
       "<table class=\"simpletable\">\n",
       "<caption>OLS Regression Results</caption>\n",
       "<tr>\n",
       "  <th>Dep. Variable:</th>      <td>timeloop_data</td>  <th>  R-squared:         </th> <td>   0.999</td>\n",
       "</tr>\n",
       "<tr>\n",
       "  <th>Model:</th>                   <td>OLS</td>       <th>  Adj. R-squared:    </th> <td>   0.998</td>\n",
       "</tr>\n",
       "<tr>\n",
       "  <th>Method:</th>             <td>Least Squares</td>  <th>  F-statistic:       </th> <td>   862.4</td>\n",
       "</tr>\n",
       "<tr>\n",
       "  <th>Date:</th>             <td>Tue, 04 Apr 2023</td> <th>  Prob (F-statistic):</th>  <td>0.00116</td>\n",
       "</tr>\n",
       "<tr>\n",
       "  <th>Time:</th>                 <td>12:40:39</td>     <th>  Log-Likelihood:    </th> <td> -82.425</td>\n",
       "</tr>\n",
       "<tr>\n",
       "  <th>No. Observations:</th>      <td>     5</td>      <th>  AIC:               </th> <td>   170.9</td>\n",
       "</tr>\n",
       "<tr>\n",
       "  <th>Df Residuals:</th>          <td>     2</td>      <th>  BIC:               </th> <td>   169.7</td>\n",
       "</tr>\n",
       "<tr>\n",
       "  <th>Df Model:</th>              <td>     2</td>      <th>                     </th>     <td> </td>   \n",
       "</tr>\n",
       "<tr>\n",
       "  <th>Covariance Type:</th>      <td>nonrobust</td>    <th>                     </th>     <td> </td>   \n",
       "</tr>\n",
       "</table>\n",
       "<table class=\"simpletable\">\n",
       "<tr>\n",
       "      <td></td>         <th>coef</th>     <th>std err</th>      <th>t</th>      <th>P>|t|</th>  <th>[0.025</th>    <th>0.975]</th>  \n",
       "</tr>\n",
       "<tr>\n",
       "  <th>Intercept</th> <td>-2.321e+07</td> <td> 1.65e+07</td> <td>   -1.407</td> <td> 0.295</td> <td>-9.42e+07</td> <td> 4.78e+07</td>\n",
       "</tr>\n",
       "<tr>\n",
       "  <th>r</th>         <td> 2.138e+07</td> <td> 5.24e+06</td> <td>    4.081</td> <td> 0.055</td> <td>-1.16e+06</td> <td> 4.39e+07</td>\n",
       "</tr>\n",
       "<tr>\n",
       "  <th>r_sq</th>      <td> 1.057e+06</td> <td> 3.69e+05</td> <td>    2.865</td> <td> 0.103</td> <td>-5.31e+05</td> <td> 2.64e+06</td>\n",
       "</tr>\n",
       "</table>\n",
       "<table class=\"simpletable\">\n",
       "<tr>\n",
       "  <th>Omnibus:</th>       <td>   nan</td> <th>  Durbin-Watson:     </th> <td>   3.411</td>\n",
       "</tr>\n",
       "<tr>\n",
       "  <th>Prob(Omnibus):</th> <td>   nan</td> <th>  Jarque-Bera (JB):  </th> <td>   0.177</td>\n",
       "</tr>\n",
       "<tr>\n",
       "  <th>Skew:</th>          <td>-0.102</td> <th>  Prob(JB):          </th> <td>   0.916</td>\n",
       "</tr>\n",
       "<tr>\n",
       "  <th>Kurtosis:</th>      <td> 2.102</td> <th>  Cond. No.          </th> <td>    490.</td>\n",
       "</tr>\n",
       "</table><br/><br/>Notes:<br/>[1] Standard Errors assume that the covariance matrix of the errors is correctly specified."
      ],
      "text/plain": [
       "<class 'statsmodels.iolib.summary.Summary'>\n",
       "\"\"\"\n",
       "                            OLS Regression Results                            \n",
       "==============================================================================\n",
       "Dep. Variable:          timeloop_data   R-squared:                       0.999\n",
       "Model:                            OLS   Adj. R-squared:                  0.998\n",
       "Method:                 Least Squares   F-statistic:                     862.4\n",
       "Date:                Tue, 04 Apr 2023   Prob (F-statistic):            0.00116\n",
       "Time:                        12:40:39   Log-Likelihood:                -82.425\n",
       "No. Observations:                   5   AIC:                             170.9\n",
       "Df Residuals:                       2   BIC:                             169.7\n",
       "Df Model:                           2                                         \n",
       "Covariance Type:            nonrobust                                         \n",
       "==============================================================================\n",
       "                 coef    std err          t      P>|t|      [0.025      0.975]\n",
       "------------------------------------------------------------------------------\n",
       "Intercept  -2.321e+07   1.65e+07     -1.407      0.295   -9.42e+07    4.78e+07\n",
       "r           2.138e+07   5.24e+06      4.081      0.055   -1.16e+06    4.39e+07\n",
       "r_sq        1.057e+06   3.69e+05      2.865      0.103   -5.31e+05    2.64e+06\n",
       "==============================================================================\n",
       "Omnibus:                          nan   Durbin-Watson:                   3.411\n",
       "Prob(Omnibus):                    nan   Jarque-Bera (JB):                0.177\n",
       "Skew:                          -0.102   Prob(JB):                        0.916\n",
       "Kurtosis:                       2.102   Cond. No.                         490.\n",
       "==============================================================================\n",
       "\n",
       "Notes:\n",
       "[1] Standard Errors assume that the covariance matrix of the errors is correctly specified.\n",
       "\"\"\""
      ]
     },
     "execution_count": 9,
     "metadata": {},
     "output_type": "execute_result"
    }
   ],
   "source": [
    "results.summary()"
   ]
  },
  {
   "cell_type": "code",
   "execution_count": 10,
   "id": "308bb1e5",
   "metadata": {},
   "outputs": [
    {
     "name": "stdout",
     "output_type": "stream",
     "text": [
      "Intercept    0.294766\n",
      "r            0.055138\n",
      "r_sq         0.103316\n",
      "dtype: float64\n"
     ]
    }
   ],
   "source": [
    "print(results.pvalues)"
   ]
  },
  {
   "cell_type": "code",
   "execution_count": 11,
   "id": "0f04a2a3",
   "metadata": {},
   "outputs": [
    {
     "data": {
      "text/plain": [
       "0.10331629163365358"
      ]
     },
     "execution_count": 11,
     "metadata": {},
     "output_type": "execute_result"
    }
   ],
   "source": [
    "results.pvalues[\"r_sq\"]"
   ]
  },
  {
   "cell_type": "code",
   "execution_count": 12,
   "id": "799a06b6",
   "metadata": {},
   "outputs": [
    {
     "data": {
      "text/plain": [
       "Intercept    0.294766\n",
       "r            0.055138\n",
       "r_sq         0.103316\n",
       "dtype: float64"
      ]
     },
     "execution_count": 12,
     "metadata": {},
     "output_type": "execute_result"
    }
   ],
   "source": [
    "results.pvalues[results.pvalues > .05]"
   ]
  },
  {
   "cell_type": "markdown",
   "id": "a0c319fb",
   "metadata": {},
   "source": [
    "# Figure"
   ]
  },
  {
   "cell_type": "code",
   "execution_count": 13,
   "id": "c99b3b37",
   "metadata": {},
   "outputs": [
    {
     "name": "stdout",
     "output_type": "stream",
     "text": [
      "2541477.252569444 41808275.67154172\n"
     ]
    },
    {
     "name": "stderr",
     "output_type": "stream",
     "text": [
      "/home/petra/miniconda3/envs/accelergy/lib/python3.7/site-packages/ipykernel_launcher.py:6: SettingWithCopyWarning: \n",
      "A value is trying to be set on a copy of a slice from a DataFrame.\n",
      "Try using .loc[row_indexer,col_indexer] = value instead\n",
      "\n",
      "See the caveats in the documentation: https://pandas.pydata.org/pandas-docs/stable/user_guide/indexing.html#returning-a-view-versus-a-copy\n",
      "  \n"
     ]
    },
    {
     "data": {
      "text/html": [
       "<div>\n",
       "<style scoped>\n",
       "    .dataframe tbody tr th:only-of-type {\n",
       "        vertical-align: middle;\n",
       "    }\n",
       "\n",
       "    .dataframe tbody tr th {\n",
       "        vertical-align: top;\n",
       "    }\n",
       "\n",
       "    .dataframe thead th {\n",
       "        text-align: right;\n",
       "    }\n",
       "</style>\n",
       "<table border=\"1\" class=\"dataframe\">\n",
       "  <thead>\n",
       "    <tr style=\"text-align: right;\">\n",
       "      <th></th>\n",
       "      <th>r</th>\n",
       "      <th>timeloop_data</th>\n",
       "      <th>r_sq</th>\n",
       "      <th>sq</th>\n",
       "    </tr>\n",
       "  </thead>\n",
       "  <tbody>\n",
       "    <tr>\n",
       "      <th>0</th>\n",
       "      <td>3</td>\n",
       "      <td>5.027796e+07</td>\n",
       "      <td>9</td>\n",
       "      <td>6.468157e+07</td>\n",
       "    </tr>\n",
       "    <tr>\n",
       "      <th>1</th>\n",
       "      <td>5</td>\n",
       "      <td>1.086949e+08</td>\n",
       "      <td>25</td>\n",
       "      <td>1.053452e+08</td>\n",
       "    </tr>\n",
       "    <tr>\n",
       "      <th>2</th>\n",
       "      <td>7</td>\n",
       "      <td>1.833327e+08</td>\n",
       "      <td>49</td>\n",
       "      <td>1.663407e+08</td>\n",
       "    </tr>\n",
       "    <tr>\n",
       "      <th>3</th>\n",
       "      <td>9</td>\n",
       "      <td>2.493732e+08</td>\n",
       "      <td>81</td>\n",
       "      <td>2.476679e+08</td>\n",
       "    </tr>\n",
       "    <tr>\n",
       "      <th>4</th>\n",
       "      <td>11</td>\n",
       "      <td>3.416837e+08</td>\n",
       "      <td>121</td>\n",
       "      <td>3.493270e+08</td>\n",
       "    </tr>\n",
       "  </tbody>\n",
       "</table>\n",
       "</div>"
      ],
      "text/plain": [
       "    r  timeloop_data  r_sq            sq\n",
       "0   3   5.027796e+07     9  6.468157e+07\n",
       "1   5   1.086949e+08    25  1.053452e+08\n",
       "2   7   1.833327e+08    49  1.663407e+08\n",
       "3   9   2.493732e+08    81  2.476679e+08\n",
       "4  11   3.416837e+08   121  3.493270e+08"
      ]
     },
     "execution_count": 13,
     "metadata": {},
     "output_type": "execute_result"
    }
   ],
   "source": [
    "from scipy import stats\n",
    "m, c, r, p, se = stats.linregress(df[\"r_sq\"], df[\"timeloop_data\"])\n",
    "\n",
    "print(m, c)\n",
    "\n",
    "df[\"sq\"] = m*df[\"r_sq\"]+c\n",
    "df"
   ]
  },
  {
   "cell_type": "code",
   "execution_count": 14,
   "id": "13a741cc",
   "metadata": {},
   "outputs": [],
   "source": [
    "import matplotlib.pyplot as plt\n",
    "import seaborn as sns"
   ]
  },
  {
   "cell_type": "code",
   "execution_count": 15,
   "id": "7fc4c93e",
   "metadata": {},
   "outputs": [
    {
     "data": {
      "image/png": "[encoded data removed]",
      "text/plain": [
       "<Figure size 600x400 with 1 Axes>"
      ]
     },
     "metadata": {},
     "output_type": "display_data"
    }
   ],
   "source": [
    "fig, ax = plt.subplots(nrows=1, ncols=1, figsize=(6,4))\n",
    "\n",
    "dfx = df[[\"r\", \"timeloop_data\", \"sq\"]]\n",
    "\n",
    "sns.barplot(data=dfx, x=\"r\", y=\"timeloop_data\", color=\"gray\")\n",
    "#sns.lineplot(data=dfx, x=dfx.index, y=\"sq\", ls=\"--\", color=\"black\")\n",
    "\n",
    "df_aux = pd.DataFrame()\n",
    "df_aux[\"x\"] = [3,4,5,6,7,8,9,10,11]\n",
    "df_aux[\"x2\"] = df_aux[\"x\"]**2\n",
    "df_aux[\"y\"] = m*df_aux[\"x2\"]+c\n",
    "df_aux[\"x\"] = (df_aux[\"x\"]-3)/2\n",
    "df_aux1 = df_aux[[\"x\", \"y\"]]\n",
    "sns.lineplot(data=df_aux1, x=\"x\", y=\"y\", ls=\"--\", color=\"black\")\n",
    "\n",
    "ax.set(xlabel=\"$r$\")\n",
    "ax.set(ylabel=\"estimated $E_{data}$\")\n",
    "ax.set(ylim=(0,0.35e09))\n",
    "#ax.set(xlim=(0,50))\n",
    "#ax.set_xticks(list(range(56,448,1)));\n",
    "#ax.set_xticks(range(0, 50, 5))\n",
    "\n",
    "fig.tight_layout()\n",
    "fig.savefig(f\"{PREFIX}sq_trend_r.png\", bbox_inches=\"tight\")\n"
   ]
  },
  {
   "cell_type": "code",
   "execution_count": 16,
   "id": "fc6f116d",
   "metadata": {},
   "outputs": [
    {
     "data": {
      "text/html": [
       "<div>\n",
       "<style scoped>\n",
       "    .dataframe tbody tr th:only-of-type {\n",
       "        vertical-align: middle;\n",
       "    }\n",
       "\n",
       "    .dataframe tbody tr th {\n",
       "        vertical-align: top;\n",
       "    }\n",
       "\n",
       "    .dataframe thead th {\n",
       "        text-align: right;\n",
       "    }\n",
       "</style>\n",
       "<table border=\"1\" class=\"dataframe\">\n",
       "  <thead>\n",
       "    <tr style=\"text-align: right;\">\n",
       "      <th></th>\n",
       "      <th>r</th>\n",
       "      <th>timeloop_data</th>\n",
       "      <th>sq</th>\n",
       "    </tr>\n",
       "  </thead>\n",
       "  <tbody>\n",
       "    <tr>\n",
       "      <th>0</th>\n",
       "      <td>3</td>\n",
       "      <td>5.027796e+07</td>\n",
       "      <td>6.468157e+07</td>\n",
       "    </tr>\n",
       "    <tr>\n",
       "      <th>1</th>\n",
       "      <td>5</td>\n",
       "      <td>1.086949e+08</td>\n",
       "      <td>1.053452e+08</td>\n",
       "    </tr>\n",
       "    <tr>\n",
       "      <th>2</th>\n",
       "      <td>7</td>\n",
       "      <td>1.833327e+08</td>\n",
       "      <td>1.663407e+08</td>\n",
       "    </tr>\n",
       "    <tr>\n",
       "      <th>3</th>\n",
       "      <td>9</td>\n",
       "      <td>2.493732e+08</td>\n",
       "      <td>2.476679e+08</td>\n",
       "    </tr>\n",
       "    <tr>\n",
       "      <th>4</th>\n",
       "      <td>11</td>\n",
       "      <td>3.416837e+08</td>\n",
       "      <td>3.493270e+08</td>\n",
       "    </tr>\n",
       "  </tbody>\n",
       "</table>\n",
       "</div>"
      ],
      "text/plain": [
       "    r  timeloop_data            sq\n",
       "0   3   5.027796e+07  6.468157e+07\n",
       "1   5   1.086949e+08  1.053452e+08\n",
       "2   7   1.833327e+08  1.663407e+08\n",
       "3   9   2.493732e+08  2.476679e+08\n",
       "4  11   3.416837e+08  3.493270e+08"
      ]
     },
     "execution_count": 16,
     "metadata": {},
     "output_type": "execute_result"
    }
   ],
   "source": [
    "dfx"
   ]
  },
  {
   "cell_type": "code",
   "execution_count": null,
   "id": "4ede45dd",
   "metadata": {},
   "outputs": [],
   "source": []
  },
  {
   "cell_type": "code",
   "execution_count": null,
   "id": "fc5efa78",
   "metadata": {},
   "outputs": [],
   "source": []
  }
 ],
 "metadata": {
  "kernelspec": {
   "display_name": "Python 3 (ipykernel)",
   "language": "python",
   "name": "python3"
  },
  "language_info": {
   "codemirror_mode": {
    "name": "ipython",
    "version": 3
   },
   "file_extension": ".py",
   "mimetype": "text/x-python",
   "name": "python",
   "nbconvert_exporter": "python",
   "pygments_lexer": "ipython3",
   "version": "3.7.13"
  }
 },
 "nbformat": 4,
 "nbformat_minor": 5
}
