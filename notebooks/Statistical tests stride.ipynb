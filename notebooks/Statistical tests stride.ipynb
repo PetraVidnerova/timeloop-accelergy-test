{
 "cells": [
  {
   "cell_type": "code",
   "execution_count": 1,
   "id": "6029be46",
   "metadata": {},
   "outputs": [],
   "source": [
    "import numpy as np \n",
    "import pandas as pd\n"
   ]
  },
  {
   "cell_type": "code",
   "execution_count": 2,
   "id": "9020904a",
   "metadata": {},
   "outputs": [],
   "source": [
    "PREFIX=\"simba_\"\n",
    "#PREFIX=\"eyeriss_\""
   ]
  },
  {
   "cell_type": "code",
   "execution_count": 3,
   "id": "857a890c",
   "metadata": {},
   "outputs": [
    {
     "data": {
      "text/html": [
       "<div>\n",
       "<style scoped>\n",
       "    .dataframe tbody tr th:only-of-type {\n",
       "        vertical-align: middle;\n",
       "    }\n",
       "\n",
       "    .dataframe tbody tr th {\n",
       "        vertical-align: top;\n",
       "    }\n",
       "\n",
       "    .dataframe thead th {\n",
       "        text-align: right;\n",
       "    }\n",
       "</style>\n",
       "<table border=\"1\" class=\"dataframe\">\n",
       "  <thead>\n",
       "    <tr style=\"text-align: right;\">\n",
       "      <th></th>\n",
       "      <th>sigma</th>\n",
       "      <th>timeloop_energy</th>\n",
       "      <th>timeloop_comp</th>\n",
       "      <th>timeloop_data</th>\n",
       "      <th>jirka_comp</th>\n",
       "      <th>jirka_data</th>\n",
       "    </tr>\n",
       "  </thead>\n",
       "  <tbody>\n",
       "    <tr>\n",
       "      <th>0</th>\n",
       "      <td>1</td>\n",
       "      <td>5.266056e+09</td>\n",
       "      <td>5.966534e+08</td>\n",
       "      <td>4.669402e+09</td>\n",
       "      <td>1063932672</td>\n",
       "      <td>12588032</td>\n",
       "    </tr>\n",
       "    <tr>\n",
       "      <th>1</th>\n",
       "      <td>2</td>\n",
       "      <td>1.379803e+09</td>\n",
       "      <td>1.519645e+08</td>\n",
       "      <td>1.227839e+09</td>\n",
       "      <td>270978048</td>\n",
       "      <td>10403584</td>\n",
       "    </tr>\n",
       "    <tr>\n",
       "      <th>2</th>\n",
       "      <td>3</td>\n",
       "      <td>6.539798e+08</td>\n",
       "      <td>6.753977e+07</td>\n",
       "      <td>5.864401e+08</td>\n",
       "      <td>120434688</td>\n",
       "      <td>9988864</td>\n",
       "    </tr>\n",
       "    <tr>\n",
       "      <th>3</th>\n",
       "      <td>4</td>\n",
       "      <td>3.810949e+08</td>\n",
       "      <td>3.941123e+07</td>\n",
       "      <td>3.416837e+08</td>\n",
       "      <td>70276800</td>\n",
       "      <td>9850688</td>\n",
       "    </tr>\n",
       "    <tr>\n",
       "      <th>4</th>\n",
       "      <td>5</td>\n",
       "      <td>2.470448e+08</td>\n",
       "      <td>2.522319e+07</td>\n",
       "      <td>2.218216e+08</td>\n",
       "      <td>44977152</td>\n",
       "      <td>9780992</td>\n",
       "    </tr>\n",
       "  </tbody>\n",
       "</table>\n",
       "</div>"
      ],
      "text/plain": [
       "   sigma  timeloop_energy  timeloop_comp  timeloop_data  jirka_comp  \\\n",
       "0      1     5.266056e+09   5.966534e+08   4.669402e+09  1063932672   \n",
       "1      2     1.379803e+09   1.519645e+08   1.227839e+09   270978048   \n",
       "2      3     6.539798e+08   6.753977e+07   5.864401e+08   120434688   \n",
       "3      4     3.810949e+08   3.941123e+07   3.416837e+08    70276800   \n",
       "4      5     2.470448e+08   2.522319e+07   2.218216e+08    44977152   \n",
       "\n",
       "   jirka_data  \n",
       "0    12588032  \n",
       "1    10403584  \n",
       "2     9988864  \n",
       "3     9850688  \n",
       "4     9780992  "
      ]
     },
     "execution_count": 3,
     "metadata": {},
     "output_type": "execute_result"
    }
   ],
   "source": [
    "df = pd.read_csv(f\"data/{PREFIX}energy_stride.csv\", sep=\";\", header=None)\n",
    "#df = df.reset_index(drop=True)\n",
    "df.columns = [\"sigma\", \"timeloop_energy\", \"timeloop_comp\", \"timeloop_data\", \"jirka_comp\", \"jirka_data\"]\n",
    "df"
   ]
  },
  {
   "cell_type": "code",
   "execution_count": 4,
   "id": "a72a4180",
   "metadata": {},
   "outputs": [
    {
     "name": "stderr",
     "output_type": "stream",
     "text": [
      "/home/petra/miniconda3/envs/accelergy/lib/python3.7/site-packages/ipykernel_launcher.py:2: SettingWithCopyWarning: \n",
      "A value is trying to be set on a copy of a slice from a DataFrame.\n",
      "Try using .loc[row_indexer,col_indexer] = value instead\n",
      "\n",
      "See the caveats in the documentation: https://pandas.pydata.org/pandas-docs/stable/user_guide/indexing.html#returning-a-view-versus-a-copy\n",
      "  \n",
      "/home/petra/miniconda3/envs/accelergy/lib/python3.7/site-packages/ipykernel_launcher.py:3: SettingWithCopyWarning: \n",
      "A value is trying to be set on a copy of a slice from a DataFrame.\n",
      "Try using .loc[row_indexer,col_indexer] = value instead\n",
      "\n",
      "See the caveats in the documentation: https://pandas.pydata.org/pandas-docs/stable/user_guide/indexing.html#returning-a-view-versus-a-copy\n",
      "  This is separate from the ipykernel package so we can avoid doing imports until\n",
      "/home/petra/miniconda3/envs/accelergy/lib/python3.7/site-packages/ipykernel_launcher.py:4: SettingWithCopyWarning: \n",
      "A value is trying to be set on a copy of a slice from a DataFrame.\n",
      "Try using .loc[row_indexer,col_indexer] = value instead\n",
      "\n",
      "See the caveats in the documentation: https://pandas.pydata.org/pandas-docs/stable/user_guide/indexing.html#returning-a-view-versus-a-copy\n",
      "  after removing the cwd from sys.path.\n"
     ]
    }
   ],
   "source": [
    "df = df[[\"sigma\", \"timeloop_data\"]]\n",
    "df[\"sigma_sq\"] = df[\"sigma\"]*df[\"sigma\"]\n",
    "df[\"sigma_inv\"] = 1/df[\"sigma\"]\n",
    "df[\"sigma_sq_inv\"] = 1/df[\"sigma_sq\"]"
   ]
  },
  {
   "cell_type": "code",
   "execution_count": 5,
   "id": "0815a5b8",
   "metadata": {},
   "outputs": [
    {
     "data": {
      "text/html": [
       "<div>\n",
       "<style scoped>\n",
       "    .dataframe tbody tr th:only-of-type {\n",
       "        vertical-align: middle;\n",
       "    }\n",
       "\n",
       "    .dataframe tbody tr th {\n",
       "        vertical-align: top;\n",
       "    }\n",
       "\n",
       "    .dataframe thead th {\n",
       "        text-align: right;\n",
       "    }\n",
       "</style>\n",
       "<table border=\"1\" class=\"dataframe\">\n",
       "  <thead>\n",
       "    <tr style=\"text-align: right;\">\n",
       "      <th></th>\n",
       "      <th>sigma</th>\n",
       "      <th>timeloop_data</th>\n",
       "      <th>sigma_sq</th>\n",
       "      <th>sigma_inv</th>\n",
       "      <th>sigma_sq_inv</th>\n",
       "    </tr>\n",
       "  </thead>\n",
       "  <tbody>\n",
       "    <tr>\n",
       "      <th>0</th>\n",
       "      <td>1</td>\n",
       "      <td>4.669402e+09</td>\n",
       "      <td>1</td>\n",
       "      <td>1.000000</td>\n",
       "      <td>1.000000</td>\n",
       "    </tr>\n",
       "    <tr>\n",
       "      <th>1</th>\n",
       "      <td>2</td>\n",
       "      <td>1.227839e+09</td>\n",
       "      <td>4</td>\n",
       "      <td>0.500000</td>\n",
       "      <td>0.250000</td>\n",
       "    </tr>\n",
       "    <tr>\n",
       "      <th>2</th>\n",
       "      <td>3</td>\n",
       "      <td>5.864401e+08</td>\n",
       "      <td>9</td>\n",
       "      <td>0.333333</td>\n",
       "      <td>0.111111</td>\n",
       "    </tr>\n",
       "    <tr>\n",
       "      <th>3</th>\n",
       "      <td>4</td>\n",
       "      <td>3.416837e+08</td>\n",
       "      <td>16</td>\n",
       "      <td>0.250000</td>\n",
       "      <td>0.062500</td>\n",
       "    </tr>\n",
       "    <tr>\n",
       "      <th>4</th>\n",
       "      <td>5</td>\n",
       "      <td>2.218216e+08</td>\n",
       "      <td>25</td>\n",
       "      <td>0.200000</td>\n",
       "      <td>0.040000</td>\n",
       "    </tr>\n",
       "  </tbody>\n",
       "</table>\n",
       "</div>"
      ],
      "text/plain": [
       "   sigma  timeloop_data  sigma_sq  sigma_inv  sigma_sq_inv\n",
       "0      1   4.669402e+09         1   1.000000      1.000000\n",
       "1      2   1.227839e+09         4   0.500000      0.250000\n",
       "2      3   5.864401e+08         9   0.333333      0.111111\n",
       "3      4   3.416837e+08        16   0.250000      0.062500\n",
       "4      5   2.218216e+08        25   0.200000      0.040000"
      ]
     },
     "execution_count": 5,
     "metadata": {},
     "output_type": "execute_result"
    }
   ],
   "source": [
    "df"
   ]
  },
  {
   "cell_type": "markdown",
   "id": "9c5f7d99",
   "metadata": {},
   "source": [
    "# Statistical test using smf.osl"
   ]
  },
  {
   "cell_type": "code",
   "execution_count": 6,
   "id": "0448826d",
   "metadata": {},
   "outputs": [],
   "source": [
    "import statsmodels.formula.api as smf\n"
   ]
  },
  {
   "cell_type": "code",
   "execution_count": 7,
   "id": "b6ce8a7a",
   "metadata": {},
   "outputs": [],
   "source": [
    "model = smf.ols(formula='timeloop_data ~   sigma_inv + sigma_sq_inv', data=df)\n",
    "results = model.fit()"
   ]
  },
  {
   "cell_type": "code",
   "execution_count": 8,
   "id": "58b77be0",
   "metadata": {},
   "outputs": [
    {
     "data": {
      "text/plain": [
       "<statsmodels.regression.linear_model.RegressionResultsWrapper at 0x7f0e920e6a10>"
      ]
     },
     "execution_count": 8,
     "metadata": {},
     "output_type": "execute_result"
    }
   ],
   "source": [
    "results"
   ]
  },
  {
   "cell_type": "code",
   "execution_count": 9,
   "id": "9a6f42ba",
   "metadata": {},
   "outputs": [
    {
     "name": "stderr",
     "output_type": "stream",
     "text": [
      "/home/petra/miniconda3/envs/accelergy/lib/python3.7/site-packages/statsmodels/stats/stattools.py:75: ValueWarning: omni_normtest is not valid with less than 8 observations; 5 samples were given.\n",
      "  \"samples were given.\" % int(n), ValueWarning)\n"
     ]
    },
    {
     "data": {
      "text/html": [
       "<table class=\"simpletable\">\n",
       "<caption>OLS Regression Results</caption>\n",
       "<tr>\n",
       "  <th>Dep. Variable:</th>      <td>timeloop_data</td>  <th>  R-squared:         </th> <td>   1.000</td> \n",
       "</tr>\n",
       "<tr>\n",
       "  <th>Model:</th>                   <td>OLS</td>       <th>  Adj. R-squared:    </th> <td>   1.000</td> \n",
       "</tr>\n",
       "<tr>\n",
       "  <th>Method:</th>             <td>Least Squares</td>  <th>  F-statistic:       </th> <td>8.815e+04</td>\n",
       "</tr>\n",
       "<tr>\n",
       "  <th>Date:</th>             <td>Tue, 04 Apr 2023</td> <th>  Prob (F-statistic):</th> <td>1.13e-05</td> \n",
       "</tr>\n",
       "<tr>\n",
       "  <th>Time:</th>                 <td>12:45:30</td>     <th>  Log-Likelihood:    </th> <td> -84.798</td> \n",
       "</tr>\n",
       "<tr>\n",
       "  <th>No. Observations:</th>      <td>     5</td>      <th>  AIC:               </th> <td>   175.6</td> \n",
       "</tr>\n",
       "<tr>\n",
       "  <th>Df Residuals:</th>          <td>     2</td>      <th>  BIC:               </th> <td>   174.4</td> \n",
       "</tr>\n",
       "<tr>\n",
       "  <th>Df Model:</th>              <td>     2</td>      <th>                     </th>     <td> </td>    \n",
       "</tr>\n",
       "<tr>\n",
       "  <th>Covariance Type:</th>      <td>nonrobust</td>    <th>                     </th>     <td> </td>    \n",
       "</tr>\n",
       "</table>\n",
       "<table class=\"simpletable\">\n",
       "<tr>\n",
       "        <td></td>          <th>coef</th>     <th>std err</th>      <th>t</th>      <th>P>|t|</th>  <th>[0.025</th>    <th>0.975]</th>  \n",
       "</tr>\n",
       "<tr>\n",
       "  <th>Intercept</th>    <td>-4.187e+06</td> <td> 2.01e+07</td> <td>   -0.208</td> <td> 0.855</td> <td>-9.09e+07</td> <td> 8.25e+07</td>\n",
       "</tr>\n",
       "<tr>\n",
       "  <th>sigma_inv</th>    <td> 2.789e+08</td> <td> 8.69e+07</td> <td>    3.211</td> <td> 0.085</td> <td>-9.48e+07</td> <td> 6.53e+08</td>\n",
       "</tr>\n",
       "<tr>\n",
       "  <th>sigma_sq_inv</th> <td> 4.394e+09</td> <td> 6.98e+07</td> <td>   62.966</td> <td> 0.000</td> <td> 4.09e+09</td> <td> 4.69e+09</td>\n",
       "</tr>\n",
       "</table>\n",
       "<table class=\"simpletable\">\n",
       "<tr>\n",
       "  <th>Omnibus:</th>       <td>   nan</td> <th>  Durbin-Watson:     </th> <td>   2.485</td>\n",
       "</tr>\n",
       "<tr>\n",
       "  <th>Prob(Omnibus):</th> <td>   nan</td> <th>  Jarque-Bera (JB):  </th> <td>   0.419</td>\n",
       "</tr>\n",
       "<tr>\n",
       "  <th>Skew:</th>          <td> 0.518</td> <th>  Prob(JB):          </th> <td>   0.811</td>\n",
       "</tr>\n",
       "<tr>\n",
       "  <th>Kurtosis:</th>      <td> 2.031</td> <th>  Cond. No.          </th> <td>    32.9</td>\n",
       "</tr>\n",
       "</table><br/><br/>Notes:<br/>[1] Standard Errors assume that the covariance matrix of the errors is correctly specified."
      ],
      "text/plain": [
       "<class 'statsmodels.iolib.summary.Summary'>\n",
       "\"\"\"\n",
       "                            OLS Regression Results                            \n",
       "==============================================================================\n",
       "Dep. Variable:          timeloop_data   R-squared:                       1.000\n",
       "Model:                            OLS   Adj. R-squared:                  1.000\n",
       "Method:                 Least Squares   F-statistic:                 8.815e+04\n",
       "Date:                Tue, 04 Apr 2023   Prob (F-statistic):           1.13e-05\n",
       "Time:                        12:45:30   Log-Likelihood:                -84.798\n",
       "No. Observations:                   5   AIC:                             175.6\n",
       "Df Residuals:                       2   BIC:                             174.4\n",
       "Df Model:                           2                                         \n",
       "Covariance Type:            nonrobust                                         \n",
       "================================================================================\n",
       "                   coef    std err          t      P>|t|      [0.025      0.975]\n",
       "--------------------------------------------------------------------------------\n",
       "Intercept    -4.187e+06   2.01e+07     -0.208      0.855   -9.09e+07    8.25e+07\n",
       "sigma_inv     2.789e+08   8.69e+07      3.211      0.085   -9.48e+07    6.53e+08\n",
       "sigma_sq_inv  4.394e+09   6.98e+07     62.966      0.000    4.09e+09    4.69e+09\n",
       "==============================================================================\n",
       "Omnibus:                          nan   Durbin-Watson:                   2.485\n",
       "Prob(Omnibus):                    nan   Jarque-Bera (JB):                0.419\n",
       "Skew:                           0.518   Prob(JB):                        0.811\n",
       "Kurtosis:                       2.031   Cond. No.                         32.9\n",
       "==============================================================================\n",
       "\n",
       "Notes:\n",
       "[1] Standard Errors assume that the covariance matrix of the errors is correctly specified.\n",
       "\"\"\""
      ]
     },
     "execution_count": 9,
     "metadata": {},
     "output_type": "execute_result"
    }
   ],
   "source": [
    "results.summary()"
   ]
  },
  {
   "cell_type": "code",
   "execution_count": 10,
   "id": "308bb1e5",
   "metadata": {},
   "outputs": [
    {
     "name": "stdout",
     "output_type": "stream",
     "text": [
      "Intercept       0.854629\n",
      "sigma_inv       0.084806\n",
      "sigma_sq_inv    0.000252\n",
      "dtype: float64\n"
     ]
    }
   ],
   "source": [
    "print(results.pvalues)"
   ]
  },
  {
   "cell_type": "code",
   "execution_count": 11,
   "id": "0f04a2a3",
   "metadata": {},
   "outputs": [
    {
     "data": {
      "text/plain": [
       "0.000252"
      ]
     },
     "execution_count": 11,
     "metadata": {},
     "output_type": "execute_result"
    }
   ],
   "source": [
    "results.pvalues[\"sigma_sq_inv\"].round(6)"
   ]
  },
  {
   "cell_type": "code",
   "execution_count": 12,
   "id": "799a06b6",
   "metadata": {},
   "outputs": [
    {
     "data": {
      "text/plain": [
       "Intercept    0.854629\n",
       "sigma_inv    0.084806\n",
       "dtype: float64"
      ]
     },
     "execution_count": 12,
     "metadata": {},
     "output_type": "execute_result"
    }
   ],
   "source": [
    "results.pvalues[results.pvalues > .05]"
   ]
  },
  {
   "cell_type": "markdown",
   "id": "a0c319fb",
   "metadata": {},
   "source": [
    "# Figure"
   ]
  },
  {
   "cell_type": "code",
   "execution_count": 13,
   "id": "c99b3b37",
   "metadata": {},
   "outputs": [
    {
     "name": "stdout",
     "output_type": "stream",
     "text": [
      "4615412860.077049 58403395.95722389\n"
     ]
    },
    {
     "data": {
      "text/html": [
       "<div>\n",
       "<style scoped>\n",
       "    .dataframe tbody tr th:only-of-type {\n",
       "        vertical-align: middle;\n",
       "    }\n",
       "\n",
       "    .dataframe tbody tr th {\n",
       "        vertical-align: top;\n",
       "    }\n",
       "\n",
       "    .dataframe thead th {\n",
       "        text-align: right;\n",
       "    }\n",
       "</style>\n",
       "<table border=\"1\" class=\"dataframe\">\n",
       "  <thead>\n",
       "    <tr style=\"text-align: right;\">\n",
       "      <th></th>\n",
       "      <th>sigma</th>\n",
       "      <th>timeloop_data</th>\n",
       "      <th>sigma_sq</th>\n",
       "      <th>sigma_inv</th>\n",
       "      <th>sigma_sq_inv</th>\n",
       "      <th>sq</th>\n",
       "    </tr>\n",
       "  </thead>\n",
       "  <tbody>\n",
       "    <tr>\n",
       "      <th>0</th>\n",
       "      <td>1</td>\n",
       "      <td>4.669402e+09</td>\n",
       "      <td>1</td>\n",
       "      <td>1.000000</td>\n",
       "      <td>1.000000</td>\n",
       "      <td>4.673816e+09</td>\n",
       "    </tr>\n",
       "    <tr>\n",
       "      <th>1</th>\n",
       "      <td>2</td>\n",
       "      <td>1.227839e+09</td>\n",
       "      <td>4</td>\n",
       "      <td>0.500000</td>\n",
       "      <td>0.250000</td>\n",
       "      <td>1.212257e+09</td>\n",
       "    </tr>\n",
       "    <tr>\n",
       "      <th>2</th>\n",
       "      <td>3</td>\n",
       "      <td>5.864401e+08</td>\n",
       "      <td>9</td>\n",
       "      <td>0.333333</td>\n",
       "      <td>0.111111</td>\n",
       "      <td>5.712270e+08</td>\n",
       "    </tr>\n",
       "    <tr>\n",
       "      <th>3</th>\n",
       "      <td>4</td>\n",
       "      <td>3.416837e+08</td>\n",
       "      <td>16</td>\n",
       "      <td>0.250000</td>\n",
       "      <td>0.062500</td>\n",
       "      <td>3.468667e+08</td>\n",
       "    </tr>\n",
       "    <tr>\n",
       "      <th>4</th>\n",
       "      <td>5</td>\n",
       "      <td>2.218216e+08</td>\n",
       "      <td>25</td>\n",
       "      <td>0.200000</td>\n",
       "      <td>0.040000</td>\n",
       "      <td>2.430199e+08</td>\n",
       "    </tr>\n",
       "  </tbody>\n",
       "</table>\n",
       "</div>"
      ],
      "text/plain": [
       "   sigma  timeloop_data  sigma_sq  sigma_inv  sigma_sq_inv            sq\n",
       "0      1   4.669402e+09         1   1.000000      1.000000  4.673816e+09\n",
       "1      2   1.227839e+09         4   0.500000      0.250000  1.212257e+09\n",
       "2      3   5.864401e+08         9   0.333333      0.111111  5.712270e+08\n",
       "3      4   3.416837e+08        16   0.250000      0.062500  3.468667e+08\n",
       "4      5   2.218216e+08        25   0.200000      0.040000  2.430199e+08"
      ]
     },
     "execution_count": 13,
     "metadata": {},
     "output_type": "execute_result"
    }
   ],
   "source": [
    "from scipy import stats\n",
    "m, c, r, p, se = stats.linregress(df[\"sigma_sq_inv\"], df[\"timeloop_data\"])\n",
    "\n",
    "print(m, c)\n",
    "\n",
    "df[\"sq\"] = m*df[\"sigma_sq_inv\"]+c\n",
    "df"
   ]
  },
  {
   "cell_type": "code",
   "execution_count": 14,
   "id": "13a741cc",
   "metadata": {},
   "outputs": [],
   "source": [
    "import matplotlib.pyplot as plt\n",
    "import seaborn as sns"
   ]
  },
  {
   "cell_type": "code",
   "execution_count": 15,
   "id": "7fc4c93e",
   "metadata": {},
   "outputs": [
    {
     "data": {
      "image/png": "[encoded data removed]",
      "text/plain": [
       "<Figure size 600x400 with 1 Axes>"
      ]
     },
     "metadata": {},
     "output_type": "display_data"
    }
   ],
   "source": [
    "fig, ax = plt.subplots(nrows=1, ncols=1, figsize=(6,4))\n",
    "\n",
    "dfx = df[[\"sigma\", \"timeloop_data\", \"sq\"]]\n",
    "\n",
    "sns.barplot(data=dfx, x=\"sigma\", y=\"timeloop_data\", color=\"gray\", ax=ax)\n",
    "#sns.lineplot(data=dfx, x=df.index, y=\"sq\", ls=\"--\", color=\"black\")\n",
    "\n",
    "#ax2 = ax.twinx()\n",
    "df_aux = pd.DataFrame()\n",
    "df_aux[\"x\"] = np.linspace(1, 5, 100)\n",
    "df_aux[\"x2\"] = 1/df_aux[\"x\"]**2\n",
    "df_aux[\"y\"] = m*df_aux[\"x2\"]+c\n",
    "df_aux[\"x\"] = df_aux[\"x\"]-1\n",
    "df_aux1 = df_aux[[\"x\", \"y\"]]\n",
    "sns.lineplot(data=df_aux1, x=\"x\", y=\"y\", ls=\"--\", color=\"black\")\n",
    "\n",
    "ax.set(xlabel=\"$\\sigma$\")\n",
    "ax.set(ylabel=\"estimated $E_{data}$\")\n",
    "ax.set(ylim=(0,5e09))\n",
    "ax.set(xlim=(None,5))\n",
    "#ax.set_xticks(list(range(56,448,1)));\n",
    "#ax.set_xticks(range(0, 50, 5))\n",
    "\n",
    "fig.tight_layout()\n",
    "fig.savefig(f\"{PREFIX}sq_trend_sigma.png\", bbox_inches=\"tight\")\n"
   ]
  },
  {
   "cell_type": "code",
   "execution_count": 16,
   "id": "fc6f116d",
   "metadata": {},
   "outputs": [
    {
     "data": {
      "text/html": [
       "<div>\n",
       "<style scoped>\n",
       "    .dataframe tbody tr th:only-of-type {\n",
       "        vertical-align: middle;\n",
       "    }\n",
       "\n",
       "    .dataframe tbody tr th {\n",
       "        vertical-align: top;\n",
       "    }\n",
       "\n",
       "    .dataframe thead th {\n",
       "        text-align: right;\n",
       "    }\n",
       "</style>\n",
       "<table border=\"1\" class=\"dataframe\">\n",
       "  <thead>\n",
       "    <tr style=\"text-align: right;\">\n",
       "      <th></th>\n",
       "      <th>x</th>\n",
       "      <th>y</th>\n",
       "    </tr>\n",
       "  </thead>\n",
       "  <tbody>\n",
       "    <tr>\n",
       "      <th>0</th>\n",
       "      <td>0.000000</td>\n",
       "      <td>4.673816e+09</td>\n",
       "    </tr>\n",
       "    <tr>\n",
       "      <th>1</th>\n",
       "      <td>0.040404</td>\n",
       "      <td>4.322298e+09</td>\n",
       "    </tr>\n",
       "    <tr>\n",
       "      <th>2</th>\n",
       "      <td>0.080808</td>\n",
       "      <td>4.009461e+09</td>\n",
       "    </tr>\n",
       "    <tr>\n",
       "      <th>3</th>\n",
       "      <td>0.121212</td>\n",
       "      <td>3.729831e+09</td>\n",
       "    </tr>\n",
       "    <tr>\n",
       "      <th>4</th>\n",
       "      <td>0.161616</td>\n",
       "      <td>3.478869e+09</td>\n",
       "    </tr>\n",
       "    <tr>\n",
       "      <th>...</th>\n",
       "      <td>...</td>\n",
       "      <td>...</td>\n",
       "    </tr>\n",
       "    <tr>\n",
       "      <th>95</th>\n",
       "      <td>3.838384</td>\n",
       "      <td>2.555594e+08</td>\n",
       "    </tr>\n",
       "    <tr>\n",
       "      <th>96</th>\n",
       "      <td>3.878788</td>\n",
       "      <td>2.523074e+08</td>\n",
       "    </tr>\n",
       "    <tr>\n",
       "      <th>97</th>\n",
       "      <td>3.919192</td>\n",
       "      <td>2.491352e+08</td>\n",
       "    </tr>\n",
       "    <tr>\n",
       "      <th>98</th>\n",
       "      <td>3.959596</td>\n",
       "      <td>2.460402e+08</td>\n",
       "    </tr>\n",
       "    <tr>\n",
       "      <th>99</th>\n",
       "      <td>4.000000</td>\n",
       "      <td>2.430199e+08</td>\n",
       "    </tr>\n",
       "  </tbody>\n",
       "</table>\n",
       "<p>100 rows × 2 columns</p>\n",
       "</div>"
      ],
      "text/plain": [
       "           x             y\n",
       "0   0.000000  4.673816e+09\n",
       "1   0.040404  4.322298e+09\n",
       "2   0.080808  4.009461e+09\n",
       "3   0.121212  3.729831e+09\n",
       "4   0.161616  3.478869e+09\n",
       "..       ...           ...\n",
       "95  3.838384  2.555594e+08\n",
       "96  3.878788  2.523074e+08\n",
       "97  3.919192  2.491352e+08\n",
       "98  3.959596  2.460402e+08\n",
       "99  4.000000  2.430199e+08\n",
       "\n",
       "[100 rows x 2 columns]"
      ]
     },
     "execution_count": 16,
     "metadata": {},
     "output_type": "execute_result"
    }
   ],
   "source": [
    "df_aux1"
   ]
  },
  {
   "cell_type": "code",
   "execution_count": null,
   "id": "4ede45dd",
   "metadata": {},
   "outputs": [],
   "source": []
  },
  {
   "cell_type": "code",
   "execution_count": null,
   "id": "c07365f0",
   "metadata": {},
   "outputs": [],
   "source": []
  },
  {
   "cell_type": "code",
   "execution_count": null,
   "id": "4829fdb6",
   "metadata": {},
   "outputs": [],
   "source": []
  }
 ],
 "metadata": {
  "kernelspec": {
   "display_name": "Python 3 (ipykernel)",
   "language": "python",
   "name": "python3"
  },
  "language_info": {
   "codemirror_mode": {
    "name": "ipython",
    "version": 3
   },
   "file_extension": ".py",
   "mimetype": "text/x-python",
   "name": "python",
   "nbconvert_exporter": "python",
   "pygments_lexer": "ipython3",
   "version": "3.7.13"
  }
 },
 "nbformat": 4,
 "nbformat_minor": 5
}
